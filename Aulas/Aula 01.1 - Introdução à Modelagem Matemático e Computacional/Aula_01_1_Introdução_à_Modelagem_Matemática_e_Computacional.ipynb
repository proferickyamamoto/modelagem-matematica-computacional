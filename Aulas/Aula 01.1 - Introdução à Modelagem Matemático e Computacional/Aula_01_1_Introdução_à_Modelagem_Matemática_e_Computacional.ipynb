{
  "nbformat": 4,
  "nbformat_minor": 0,
  "metadata": {
    "colab": {
      "provenance": []
    },
    "kernelspec": {
      "name": "python3",
      "display_name": "Python 3"
    },
    "language_info": {
      "name": "python"
    }
  },
  "cells": [
    {
      "cell_type": "code",
      "execution_count": null,
      "metadata": {
        "id": "giYKDZGehXEu"
      },
      "outputs": [],
      "source": [
        "import numpy as np\n",
        "import matplotlib.pyplot as plt\n",
        "from scipy.integrate import odeint\n",
        "\n",
        "# Definição do modelo SIR\n",
        "def sir_model(y, t, beta, gamma):\n",
        "    S, I, R = y\n",
        "    dSdt = -beta * S * I\n",
        "    dIdt = beta * S * I - gamma * I\n",
        "    dRdt = gamma * I\n",
        "    return [dSdt, dIdt, dRdt]"
      ]
    },
    {
      "cell_type": "code",
      "source": [
        "\n",
        "# Parâmetros do modelo\n",
        "beta = 0.3  # Taxa de transmissão\n",
        "gamma = 0.1  # Taxa de recuperação"
      ],
      "metadata": {
        "id": "gjRpLEiNlILQ"
      },
      "execution_count": null,
      "outputs": []
    },
    {
      "cell_type": "markdown",
      "source": [
        "\n",
        "1.   **beta** (Taxa de Transmissão = 0.3): Representa a probabilidade de transmissão da doença quando uma pessoa suscetível entra em contato com um infectado. Quanto maior o β, mais rápido a doença se espalha.\n",
        "No exemplo, beta = 0.3 significa que há 30% de chance de uma pessoa suscetível ser infectada ao entrar em contato com um infectado.\n",
        "\n",
        "\n",
        "2.   **gamma** (Taxa de Recuperação = 0.1): Representa a proporção de infectados que se recuperam por unidade de tempo. Quanto maior o γ, mais rápido as pessoas se recuperam e deixam o grupo de infectados.\n",
        "\n",
        "No exemplo, gamma = 0.1 significa que 10% dos infectados se recuperam por unidade de tempo (por exemplo, a cada dia)."
      ],
      "metadata": {
        "id": "TQe8zi0XlOu_"
      }
    },
    {
      "cell_type": "code",
      "source": [
        "S0, I0, R0 = 0.99, 0.01, 0  # População inicial"
      ],
      "metadata": {
        "id": "iqh6yK7YlNiZ"
      },
      "execution_count": null,
      "outputs": []
    },
    {
      "cell_type": "markdown",
      "source": [
        "Essa linha define os valores iniciais para os três grupos da população no modelo SIR.\n",
        "Os valores são normalizados (isto é, representados como frações da população total, onde S + I + R = 1).\n",
        "\n",
        "* S0 = 0.99 (99% da população inicial é suscetível), isso significa que 99% da população ainda não foi infectada e pode contrair a doença.\n",
        "\n",
        "* I0 = 0.01 (1% da população inicial está infectada), apenas 1% da população já está doente no início da simulação.\n",
        "\n",
        "* R0 = 0 (0% da população está recuperada no início), no início da simulação, ninguém ainda se recuperou da doença."
      ],
      "metadata": {
        "id": "2Y-AmbGkmGQ1"
      }
    },
    {
      "cell_type": "markdown",
      "source": [
        "Vamos supor que estamos modelando uma cidade com 100.000 habitantes. Podemos converter os valores normalizados para números reais:\n",
        "\n",
        "* S0 = 0.99 → 99.000 pessoas estão saudáveis, mas suscetíveis à infecção.\n",
        "* I0 = 0.01 → 1.000 pessoas já estão infectadas e podem transmitir a doença.\n",
        "* R0 = 0 → 0 pessoas recuperadas no início da simulação.\n",
        "\n",
        "Se beta = 0.3 e gamma = 0.1, significa que:\n",
        "\n",
        "* Cada infectado pode infectar cerca de 30% das pessoas suscetíveis com quem entra em contato.\n",
        "* A cada ciclo de tempo, 10% dos infectados se recuperam e se tornam imunes.\n"
      ],
      "metadata": {
        "id": "gaMVf3LvmrMw"
      }
    },
    {
      "cell_type": "code",
      "source": [
        "# Valores dos modelos SIR\n",
        "sir_model([S0, I0, R0], 0, beta, gamma)"
      ],
      "metadata": {
        "id": "cyFg95EUrJaB"
      },
      "execution_count": null,
      "outputs": []
    },
    {
      "cell_type": "code",
      "source": [
        "# Vetor de tempo\n",
        "t = np.linspace(0, 100, 1000)\n",
        "\n",
        "# Resolvendo o sistema de EDOs\n",
        "sol = odeint(sir_model, [S0, I0, R0], t, args=(beta, gamma))"
      ],
      "metadata": {
        "id": "8RbqdiD2lKqT"
      },
      "execution_count": null,
      "outputs": []
    },
    {
      "cell_type": "markdown",
      "source": [
        "ODE significa \"Ordinary Differential Equation\" (Equação Diferencial Ordinária, EDO). Trata-se de uma equação matemática que contém derivadas de uma ou mais funções em relação a uma variável independente.\n",
        "\n",
        "Em modelagem matemática e computacional, as ODEs são amplamente usadas para descrever sistemas dinâmicos, como:\n",
        "\n",
        "* Propagação de doenças (Modelo SIR).\n",
        "* Movimento de objetos na física (Lei de Newton).\n",
        "* Crescimento populacional (Modelo Logístico).\n",
        "* Circuitos elétricos (Leis de Kirchhoff)."
      ],
      "metadata": {
        "id": "IWl1etdyncjz"
      }
    },
    {
      "cell_type": "code",
      "source": [
        "# Plotando os resultados\n",
        "plt.figure(figsize=(10, 5))\n",
        "plt.plot(t, sol[:, 0], 'b', label='Suscetíveis')\n",
        "plt.plot(t, sol[:, 1], 'r', label='Infectados')\n",
        "plt.plot(t, sol[:, 2], 'g', label='Recuperados')\n",
        "plt.xlabel('Tempo')\n",
        "plt.ylabel('Fração da População')\n",
        "plt.legend()\n",
        "plt.title('Modelo SIR de Propagação de Doenças')\n",
        "plt.show()"
      ],
      "metadata": {
        "id": "786ozA4JngYP"
      },
      "execution_count": null,
      "outputs": []
    },
    {
      "cell_type": "markdown",
      "source": [
        "**DESAFIO** - Não vale olhar a respostas hein!🙂\n",
        "\n"
      ],
      "metadata": {
        "id": "e_jQYDICnwMw"
      }
    },
    {
      "cell_type": "code",
      "source": [
        "#@title O que acontece se beta > gamma?\n",
        "\n",
        "#Resposta: A epidemia cresce rapidamente, pois a taxa de contágio é maior que a taxa de recuperação."
      ],
      "metadata": {
        "cellView": "form",
        "id": "cfjcGE7Enzjx"
      },
      "execution_count": null,
      "outputs": []
    },
    {
      "cell_type": "code",
      "source": [
        "#@title E se gamma > beta?\n",
        "\n",
        "#Resposta: A doença pode desaparecer rapidamente, pois mais pessoas se recuperam antes de transmitir o vírus."
      ],
      "metadata": {
        "cellView": "form",
        "id": "XmyNAlNIolDG"
      },
      "execution_count": null,
      "outputs": []
    },
    {
      "cell_type": "code",
      "source": [
        "#@title Como você modificaria o modelo para incluir vacinação?\n",
        "\n",
        "#Resposta: Reduzindo S0, pois uma fração da população já estaria imunizada."
      ],
      "metadata": {
        "cellView": "form",
        "id": "-KIQOkrHoy2g"
      },
      "execution_count": null,
      "outputs": []
    }
  ]
}